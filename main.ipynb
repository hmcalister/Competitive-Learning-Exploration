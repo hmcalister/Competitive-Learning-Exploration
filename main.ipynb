{
 "cells": [
  {
   "cell_type": "code",
   "execution_count": null,
   "id": "60f46183",
   "metadata": {},
   "outputs": [],
   "source": [
    "import numpy as np\n",
    "import matplotlib.pyplot as plt\n",
    "from sklearn.cluster import KMeans\n",
    "from sklearn.metrics import silhouette_score, normalized_mutual_info_score\n",
    "\n",
    "from dataset import AbstractDataset, \\\n",
    "    UniformRandomDataset, \\\n",
    "    PrototypeDataset, \\\n",
    "    MNISTDataset, \\\n",
    "    FashionMNISTDataset\n",
    "\n",
    "from clusterings import *"
   ]
  },
  {
   "cell_type": "code",
   "execution_count": null,
   "id": "e7980c36",
   "metadata": {},
   "outputs": [],
   "source": [
    "def measureClusteringPerformance(predicted_labels: np.ndarray, dataset: AbstractDataset) -> dict[str, float]:\n",
    "    try:\n",
    "        silhouette = silhouette_score(dataset.X, predicted_labels)\n",
    "    except ValueError:\n",
    "        silhouette = np.nan\n",
    "    nmi = normalized_mutual_info_score(dataset.y, predicted_labels)\n",
    "    return {\n",
    "        \"silhouette\": float(silhouette),\n",
    "        \"nmi\": float(nmi),\n",
    "    }"
   ]
  },
  {
   "cell_type": "markdown",
   "id": "f538e4e6",
   "metadata": {},
   "source": [
    "# Synthetic Prototype Dataset"
   ]
  },
  {
   "cell_type": "code",
   "execution_count": null,
   "id": "f4e981bb",
   "metadata": {},
   "outputs": [],
   "source": [
    "NUM_POINTS = 1000\n",
    "NUM_FEATURES = 2\n",
    "NUM_DATA_PROTOTYPES = 4\n",
    "INSTANCE_NOISE = 0.1\n",
    "dataset = PrototypeDataset(NUM_DATA_PROTOTYPES,INSTANCE_NOISE,NUM_POINTS,NUM_FEATURES)\n",
    "\n",
    "NUM_CLUSTERING_PROTOTYPES = 10\n",
    "\n",
    "def visualize_prototypes(prototypes: np.ndarray):\n",
    "    if NUM_FEATURES!=2: return\n",
    "    for prototype_index in range(NUM_DATA_PROTOTYPES):\n",
    "        prototype_mask = dataset.y==prototype_index\n",
    "        plt.scatter(dataset.X[prototype_mask, 0], dataset.X[prototype_mask, 1], label=f\"{prototype_index}\")\n",
    "    plt.scatter(prototypes[:, 0], prototypes[:, 1], s=10, c=\"k\")\n",
    "    plt.legend(title=\"Prototype Index\")\n",
    "    plt.show()"
   ]
  },
  {
   "cell_type": "markdown",
   "id": "6ef5363a",
   "metadata": {},
   "source": [
    "### K-Means"
   ]
  },
  {
   "cell_type": "code",
   "execution_count": null,
   "id": "c7c9e0b9",
   "metadata": {},
   "outputs": [],
   "source": [
    "clustering = KMeans(NUM_CLUSTERING_PROTOTYPES)\n",
    "clustering.fit(dataset.X)\n",
    "predicted_labels = clustering.predict(dataset.X)\n",
    "\n",
    "print(measureClusteringPerformance(predicted_labels, dataset))\n",
    "visualize_prototypes(clustering.cluster_centers_)"
   ]
  },
  {
   "cell_type": "markdown",
   "id": "e34ed1ee",
   "metadata": {},
   "source": [
    "### Winner Takes All"
   ]
  },
  {
   "cell_type": "code",
   "execution_count": null,
   "id": "8d67946e",
   "metadata": {},
   "outputs": [],
   "source": [
    "clustering = WinnerTakesAll(NUM_CLUSTERING_PROTOTYPES, NUM_FEATURES)\n",
    "clustering.fit(dataset.X)\n",
    "predicted_labels = clustering.predict(dataset.X)\n",
    "\n",
    "print(measureClusteringPerformance(predicted_labels, dataset))\n",
    "visualize_prototypes(clustering.prototypes)"
   ]
  },
  {
   "cell_type": "markdown",
   "id": "e5ab5fe9",
   "metadata": {},
   "source": [
    "### FSCL"
   ]
  },
  {
   "cell_type": "code",
   "execution_count": null,
   "id": "589bdae6",
   "metadata": {},
   "outputs": [],
   "source": [
    "clustering = FSCL(NUM_CLUSTERING_PROTOTYPES, NUM_FEATURES)\n",
    "clustering.fit(dataset.X)\n",
    "predicted_labels = clustering.predict(dataset.X)\n",
    "\n",
    "print(measureClusteringPerformance(predicted_labels, dataset))\n",
    "visualize_prototypes(clustering.prototypes)"
   ]
  },
  {
   "cell_type": "markdown",
   "id": "f971ea0f",
   "metadata": {},
   "source": [
    "### RPCL"
   ]
  },
  {
   "cell_type": "code",
   "execution_count": null,
   "id": "c0fa633b",
   "metadata": {},
   "outputs": [],
   "source": [
    "clustering = RPCL(NUM_CLUSTERING_PROTOTYPES, NUM_FEATURES)\n",
    "clustering.fit(dataset.X,best_matching_unit_learning_rate=1e-3,rival_matching_unit_learning_rate=1e-4)\n",
    "predicted_labels = clustering.predict(dataset.X)\n",
    "\n",
    "print(measureClusteringPerformance(predicted_labels, dataset))\n",
    "visualize_prototypes(clustering.prototypes)\n",
    "\n",
    "for prototype_index in range(NUM_DATA_PROTOTYPES):\n",
    "    prototype_mask = dataset.y==prototype_index\n",
    "    plt.scatter(dataset.X[prototype_mask, 0], dataset.X[prototype_mask, 1], label=f\"{prototype_index}\")\n",
    "plt.scatter(clustering.prototypes[:, 0], clustering.prototypes[:, 1], s=10, c=\"k\")\n",
    "plt.legend(title=\"Prototype Index\")\n",
    "plt.xlim(-3,3)\n",
    "plt.ylim(-3,3)\n",
    "plt.show()"
   ]
  },
  {
   "cell_type": "markdown",
   "id": "9ff903a9",
   "metadata": {},
   "source": [
    "# MNIST Dataset"
   ]
  },
  {
   "cell_type": "code",
   "execution_count": null,
   "id": "72f59e60",
   "metadata": {},
   "outputs": [],
   "source": [
    "NUM_POINTS = 10000\n",
    "dataset = MNISTDataset(NUM_POINTS)\n",
    "# dataset = FashionMNISTDataset(NUM_POINTS)\n",
    "# NUM_DATA_PROTOTYPES = 10\n",
    "NUM_FEATURES = dataset.num_features\n",
    "\n",
    "NUM_CLUSTERING_PROTOTYPES = 20\n",
    "\n",
    "def visualize_prototypes(prototypes: np.ndarray, ncols: int = 5, imsize: float=3):\n",
    "    prototypes = prototypes.reshape(-1, 28, 28)\n",
    "    nrows = int(np.ceil(prototypes.shape[0]/ncols))\n",
    "    fig, axes = plt.subplots(nrows=nrows, ncols=ncols, figsize=(ncols*imsize, nrows*imsize))\n",
    "    for i, ax in enumerate(axes.ravel()):\n",
    "        ax.set_xticks([])\n",
    "        ax.set_yticks([])\n",
    "\n",
    "        if i >= prototypes.shape[0]:\n",
    "            ax.set_frame_on(False)\n",
    "            continue\n",
    "\n",
    "        prototype = prototypes[i, :]\n",
    "        ax.imshow(prototype, cmap=\"grey\")\n",
    "    plt.tight_layout()\n",
    "    plt.show()"
   ]
  },
  {
   "cell_type": "markdown",
   "id": "7df2ecb2",
   "metadata": {},
   "source": [
    "### K-Means"
   ]
  },
  {
   "cell_type": "code",
   "execution_count": null,
   "id": "5b97da26",
   "metadata": {},
   "outputs": [],
   "source": [
    "clustering = KMeans(NUM_CLUSTERING_PROTOTYPES)\n",
    "clustering.fit(dataset.X)\n",
    "predicted_labels = clustering.predict(dataset.X)\n",
    "\n",
    "print(measureClusteringPerformance(predicted_labels, dataset))\n",
    "visualize_prototypes(clustering.cluster_centers_)"
   ]
  },
  {
   "cell_type": "markdown",
   "id": "8218c230",
   "metadata": {},
   "source": [
    "### Winner Takes All"
   ]
  },
  {
   "cell_type": "code",
   "execution_count": null,
   "id": "e18fc1e8",
   "metadata": {},
   "outputs": [],
   "source": [
    "clustering = WinnerTakesAll(NUM_CLUSTERING_PROTOTYPES, NUM_FEATURES)\n",
    "clustering.fit(dataset.X, num_epochs=30)\n",
    "predicted_labels = clustering.predict(dataset.X)\n",
    "\n",
    "print(measureClusteringPerformance(predicted_labels, dataset))\n",
    "visualize_prototypes(clustering.prototypes)"
   ]
  },
  {
   "cell_type": "markdown",
   "id": "de6d131a",
   "metadata": {},
   "source": [
    "### FSCL"
   ]
  },
  {
   "cell_type": "code",
   "execution_count": null,
   "id": "92d23e8a",
   "metadata": {},
   "outputs": [],
   "source": [
    "clustering = FSCL(NUM_CLUSTERING_PROTOTYPES, NUM_FEATURES)\n",
    "clustering.fit(dataset.X, num_epochs=30)\n",
    "predicted_labels = clustering.predict(dataset.X)\n",
    "\n",
    "print(measureClusteringPerformance(predicted_labels, dataset))\n",
    "visualize_prototypes(clustering.prototypes)"
   ]
  },
  {
   "cell_type": "markdown",
   "id": "6a5c855b",
   "metadata": {},
   "source": [
    "### RPCL"
   ]
  },
  }
 ],
 "metadata": {
  "kernelspec": {
   "display_name": "base",
   "language": "python",
   "name": "python3"
  },
  "language_info": {
   "codemirror_mode": {
    "name": "ipython",
    "version": 3
   },
   "file_extension": ".py",
   "mimetype": "text/x-python",
   "name": "python",
   "nbconvert_exporter": "python",
   "pygments_lexer": "ipython3",
   "version": "3.12.6"
  }
 },
 "nbformat": 4,
 "nbformat_minor": 5
}
